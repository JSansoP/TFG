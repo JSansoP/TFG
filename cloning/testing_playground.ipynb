{
 "cells": [
  {
   "cell_type": "code",
   "execution_count": 1,
   "metadata": {},
   "outputs": [],
   "source": [
    "import pandas as pd\n",
    "import re\n",
    "import os"
   ]
  },
  {
   "cell_type": "code",
   "execution_count": 2,
   "metadata": {},
   "outputs": [],
   "source": [
    "df = pd.read_csv('validated.tsv', sep='\\t', encoding='utf-8')"
   ]
  },
  {
   "cell_type": "code",
   "execution_count": 3,
   "metadata": {},
   "outputs": [],
   "source": [
    "#Keep only the sentences that have more than 5 words, and only keep the sentence column\n",
    "df = df[df['sentence'].str.split().str.len() > 5][['sentence']]"
   ]
  },
  {
   "cell_type": "code",
   "execution_count": 4,
   "metadata": {},
   "outputs": [],
   "source": [
    "#if string contains \" remove the sentence\n",
    "# df = df[~df['sentence'].str.contains('\"')]"
   ]
  },
  {
   "cell_type": "code",
   "execution_count": 5,
   "metadata": {},
   "outputs": [],
   "source": [
    "#Save the new dataframe to a new file, without index\n",
    "df.to_csv('validated_cleaned_tmp.csv', index=False, encoding='utf-8')"
   ]
  },
  {
   "cell_type": "code",
   "execution_count": 6,
   "metadata": {},
   "outputs": [],
   "source": [
    "#regex: starts and ends with '\"' and anything in between\n",
    "exp = re.compile(r'^\".*\"$')\n",
    "with open('validated_cleaned_tmp.csv', 'r', encoding='utf-8') as f:\n",
    "    with open('validated_cleaned.csv', 'w', encoding='utf-8') as f2:\n",
    "        lines = f.readlines()\n",
    "        for line in lines:\n",
    "            if exp.match(line):\n",
    "                tmp = line[1:-2]\n",
    "                tmp = tmp.replace('\"\"\"\"', '\"')\n",
    "                tmp = tmp.replace('\"\"\"', '\"')\n",
    "                tmp = tmp.replace('\"\"', '\"')\n",
    "                f2.write(tmp + '\\n')\n",
    "            else:\n",
    "                tmp = line.replace('\"\"\"\"', '\"')\n",
    "                tmp = tmp.replace('\"\"\"', '\"')\n",
    "                tmp = tmp.replace('\"\"', '\"')\n",
    "                f2.write(tmp)\n",
    "os.remove('validated_cleaned_tmp.csv')"
   ]
  }
 ],
 "metadata": {
  "kernelspec": {
   "display_name": "cloning",
   "language": "python",
   "name": "python3"
  },
  "language_info": {
   "codemirror_mode": {
    "name": "ipython",
    "version": 3
   },
   "file_extension": ".py",
   "mimetype": "text/x-python",
   "name": "python",
   "nbconvert_exporter": "python",
   "pygments_lexer": "ipython3",
   "version": "3.8.16"
  },
  "orig_nbformat": 4
 },
 "nbformat": 4,
 "nbformat_minor": 2
}
